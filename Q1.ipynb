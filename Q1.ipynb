{
  "nbformat": 4,
  "nbformat_minor": 0,
  "metadata": {
    "colab": {
      "provenance": [],
      "collapsed_sections": []
    },
    "kernelspec": {
      "name": "python3",
      "display_name": "Python 3"
    },
    "language_info": {
      "name": "python"
    }
  },
  "cells": [
    {
      "cell_type": "code",
      "execution_count": 54,
      "metadata": {
        "id": "UArOGfD9AsDy"
      },
      "outputs": [],
      "source": [
        "#Q1 Finding money for heads and tails\n",
        "coin = ['heads', 'tails']\n",
        "import random\n",
        "import statistics"
      ]
    },
    {
      "cell_type": "code",
      "source": [
        "sum = 0\n",
        "N= [ 10, 20, 400, 10000, 1000000, 2000000 ]\n",
        "sample = []"
      ],
      "metadata": {
        "id": "McZ_ZC7hop4M"
      },
      "execution_count": 105,
      "outputs": []
    },
    {
      "cell_type": "code",
      "source": [
        "def findvalue (toss, sum) :\n",
        "  if toss == 'heads' :\n",
        "    sum = sum + 1 \n",
        "    sample.append (1)\n",
        "  else :\n",
        "    sum = sum - 0.5 \n",
        "    sample.append (-.5)\n",
        "  return sum"
      ],
      "metadata": {
        "id": "alc3iZuZpB6N"
      },
      "execution_count": 100,
      "outputs": []
    },
    {
      "cell_type": "code",
      "source": [
        "for i in N:\n",
        "  for j in range (i):\n",
        "    toss = random.choice(coin)\n",
        "    sum = findvalue(toss,sum)\n",
        "  print(sum, 'with ', i, 'tries ')\n",
        "  print('Mean of data is', sum / i)\n",
        "  print('Variance of data is', statistics.variance(sample))\n",
        "  print('')\n",
        "  sample = []\n",
        "  sum = 0"
      ],
      "metadata": {
        "colab": {
          "base_uri": "https://localhost:8080/"
        },
        "id": "NcszBIqDp50H",
        "outputId": "f432c644-0e40-4177-de0e-a6ff90b84620"
      },
      "execution_count": 106,
      "outputs": [
        {
          "output_type": "stream",
          "name": "stdout",
          "text": [
            "1.0 with  10 tries \n",
            "Mean of data is 0.1\n",
            "Variance of data is 0.6\n",
            "\n",
            "0.5 with  20 tries \n",
            "Mean of data is 0.025\n",
            "Variance of data is 0.5388157894736842\n",
            "\n",
            "124.0 with  400 tries \n",
            "Mean of data is 0.31\n",
            "Variance of data is 0.5603007518796993\n",
            "\n",
            "2413.0 with  10000 tries \n",
            "Mean of data is 0.2413\n",
            "Variance of data is 0.5624805580558055\n",
            "\n",
            "250087.0 with  1000000 tries \n",
            "Mean of data is 0.250087\n",
            "Variance of data is 0.5625005549315549\n",
            "\n",
            "499124.0 with  2000000 tries \n",
            "Mean of data is 0.249562\n",
            "Variance of data is 0.5625000894060447\n",
            "\n"
          ]
        }
      ]
    },
    {
      "cell_type": "code",
      "source": [
        "#From the above data we can see that the mean and expected sum depends on no of tries\n",
        "#The variance remains similar in value\n",
        "#The variance represents the degree of spread and we observe that as we increase the no\n",
        "#of values the varince approachs a similar no. eg var between 10 and 20 is much larger\n",
        "#than the gap between 100000 and 200000"
      ],
      "metadata": {
        "id": "u3KcftmIyx5w"
      },
      "execution_count": 107,
      "outputs": []
    }
  ]
}