{
  "nbformat": 4,
  "nbformat_minor": 0,
  "metadata": {
    "colab": {
      "provenance": [],
      "collapsed_sections": []
    },
    "kernelspec": {
      "name": "python3",
      "display_name": "Python 3"
    },
    "language_info": {
      "name": "python"
    }
  },
  "cells": [
    {
      "cell_type": "code",
      "execution_count": null,
      "metadata": {
        "id": "-6rlnYmdb6zz"
      },
      "outputs": [],
      "source": [
        "#Make a program to maximise sharpe\n",
        "%pip install openpyxl"
      ]
    },
    {
      "cell_type": "code",
      "source": [
        "#Reading excel files into one\n",
        "import openpyxl\n",
        "import pandas as pd\n",
        "import numpy as np\n",
        "df = pd.read_csv('Stock2.csv')\n",
        "returns = df.pct_change()\n",
        "returns\n",
        "\n"
      ],
      "metadata": {
        "colab": {
          "base_uri": "https://localhost:8080/",
          "height": 424
        },
        "id": "sg36ssWbfsr1",
        "outputId": "20b39e07-e207-4d7d-c3b8-6d3e0b836a5a"
      },
      "execution_count": 2,
      "outputs": [
        {
          "output_type": "execute_result",
          "data": {
            "text/plain": [
              "      BAJAJ-AUTO  BAJAJ-FINSV  BAJAJ-FINANCE\n",
              "0            NaN          NaN            NaN\n",
              "1      -0.019181     0.089472      -0.031734\n",
              "2       0.025289     0.155594       0.022294\n",
              "3      -0.014306    -0.013340      -0.028332\n",
              "4      -0.046292     0.018343       0.012469\n",
              "...          ...          ...            ...\n",
              "3197    0.018067     0.008958       0.027129\n",
              "3198    0.012477     0.039435       0.085477\n",
              "3199    0.027539     0.065519       0.038620\n",
              "3200   -0.013703    -0.012070      -0.006007\n",
              "3201   -0.000704     0.000000       0.000000\n",
              "\n",
              "[3202 rows x 3 columns]"
            ],
            "text/html": [
              "\n",
              "  <div id=\"df-a75f8c86-22b7-4be3-bfb2-b74720489e64\">\n",
              "    <div class=\"colab-df-container\">\n",
              "      <div>\n",
              "<style scoped>\n",
              "    .dataframe tbody tr th:only-of-type {\n",
              "        vertical-align: middle;\n",
              "    }\n",
              "\n",
              "    .dataframe tbody tr th {\n",
              "        vertical-align: top;\n",
              "    }\n",
              "\n",
              "    .dataframe thead th {\n",
              "        text-align: right;\n",
              "    }\n",
              "</style>\n",
              "<table border=\"1\" class=\"dataframe\">\n",
              "  <thead>\n",
              "    <tr style=\"text-align: right;\">\n",
              "      <th></th>\n",
              "      <th>BAJAJ-AUTO</th>\n",
              "      <th>BAJAJ-FINSV</th>\n",
              "      <th>BAJAJ-FINANCE</th>\n",
              "    </tr>\n",
              "  </thead>\n",
              "  <tbody>\n",
              "    <tr>\n",
              "      <th>0</th>\n",
              "      <td>NaN</td>\n",
              "      <td>NaN</td>\n",
              "      <td>NaN</td>\n",
              "    </tr>\n",
              "    <tr>\n",
              "      <th>1</th>\n",
              "      <td>-0.019181</td>\n",
              "      <td>0.089472</td>\n",
              "      <td>-0.031734</td>\n",
              "    </tr>\n",
              "    <tr>\n",
              "      <th>2</th>\n",
              "      <td>0.025289</td>\n",
              "      <td>0.155594</td>\n",
              "      <td>0.022294</td>\n",
              "    </tr>\n",
              "    <tr>\n",
              "      <th>3</th>\n",
              "      <td>-0.014306</td>\n",
              "      <td>-0.013340</td>\n",
              "      <td>-0.028332</td>\n",
              "    </tr>\n",
              "    <tr>\n",
              "      <th>4</th>\n",
              "      <td>-0.046292</td>\n",
              "      <td>0.018343</td>\n",
              "      <td>0.012469</td>\n",
              "    </tr>\n",
              "    <tr>\n",
              "      <th>...</th>\n",
              "      <td>...</td>\n",
              "      <td>...</td>\n",
              "      <td>...</td>\n",
              "    </tr>\n",
              "    <tr>\n",
              "      <th>3197</th>\n",
              "      <td>0.018067</td>\n",
              "      <td>0.008958</td>\n",
              "      <td>0.027129</td>\n",
              "    </tr>\n",
              "    <tr>\n",
              "      <th>3198</th>\n",
              "      <td>0.012477</td>\n",
              "      <td>0.039435</td>\n",
              "      <td>0.085477</td>\n",
              "    </tr>\n",
              "    <tr>\n",
              "      <th>3199</th>\n",
              "      <td>0.027539</td>\n",
              "      <td>0.065519</td>\n",
              "      <td>0.038620</td>\n",
              "    </tr>\n",
              "    <tr>\n",
              "      <th>3200</th>\n",
              "      <td>-0.013703</td>\n",
              "      <td>-0.012070</td>\n",
              "      <td>-0.006007</td>\n",
              "    </tr>\n",
              "    <tr>\n",
              "      <th>3201</th>\n",
              "      <td>-0.000704</td>\n",
              "      <td>0.000000</td>\n",
              "      <td>0.000000</td>\n",
              "    </tr>\n",
              "  </tbody>\n",
              "</table>\n",
              "<p>3202 rows × 3 columns</p>\n",
              "</div>\n",
              "      <button class=\"colab-df-convert\" onclick=\"convertToInteractive('df-a75f8c86-22b7-4be3-bfb2-b74720489e64')\"\n",
              "              title=\"Convert this dataframe to an interactive table.\"\n",
              "              style=\"display:none;\">\n",
              "        \n",
              "  <svg xmlns=\"http://www.w3.org/2000/svg\" height=\"24px\"viewBox=\"0 0 24 24\"\n",
              "       width=\"24px\">\n",
              "    <path d=\"M0 0h24v24H0V0z\" fill=\"none\"/>\n",
              "    <path d=\"M18.56 5.44l.94 2.06.94-2.06 2.06-.94-2.06-.94-.94-2.06-.94 2.06-2.06.94zm-11 1L8.5 8.5l.94-2.06 2.06-.94-2.06-.94L8.5 2.5l-.94 2.06-2.06.94zm10 10l.94 2.06.94-2.06 2.06-.94-2.06-.94-.94-2.06-.94 2.06-2.06.94z\"/><path d=\"M17.41 7.96l-1.37-1.37c-.4-.4-.92-.59-1.43-.59-.52 0-1.04.2-1.43.59L10.3 9.45l-7.72 7.72c-.78.78-.78 2.05 0 2.83L4 21.41c.39.39.9.59 1.41.59.51 0 1.02-.2 1.41-.59l7.78-7.78 2.81-2.81c.8-.78.8-2.07 0-2.86zM5.41 20L4 18.59l7.72-7.72 1.47 1.35L5.41 20z\"/>\n",
              "  </svg>\n",
              "      </button>\n",
              "      \n",
              "  <style>\n",
              "    .colab-df-container {\n",
              "      display:flex;\n",
              "      flex-wrap:wrap;\n",
              "      gap: 12px;\n",
              "    }\n",
              "\n",
              "    .colab-df-convert {\n",
              "      background-color: #E8F0FE;\n",
              "      border: none;\n",
              "      border-radius: 50%;\n",
              "      cursor: pointer;\n",
              "      display: none;\n",
              "      fill: #1967D2;\n",
              "      height: 32px;\n",
              "      padding: 0 0 0 0;\n",
              "      width: 32px;\n",
              "    }\n",
              "\n",
              "    .colab-df-convert:hover {\n",
              "      background-color: #E2EBFA;\n",
              "      box-shadow: 0px 1px 2px rgba(60, 64, 67, 0.3), 0px 1px 3px 1px rgba(60, 64, 67, 0.15);\n",
              "      fill: #174EA6;\n",
              "    }\n",
              "\n",
              "    [theme=dark] .colab-df-convert {\n",
              "      background-color: #3B4455;\n",
              "      fill: #D2E3FC;\n",
              "    }\n",
              "\n",
              "    [theme=dark] .colab-df-convert:hover {\n",
              "      background-color: #434B5C;\n",
              "      box-shadow: 0px 1px 3px 1px rgba(0, 0, 0, 0.15);\n",
              "      filter: drop-shadow(0px 1px 2px rgba(0, 0, 0, 0.3));\n",
              "      fill: #FFFFFF;\n",
              "    }\n",
              "  </style>\n",
              "\n",
              "      <script>\n",
              "        const buttonEl =\n",
              "          document.querySelector('#df-a75f8c86-22b7-4be3-bfb2-b74720489e64 button.colab-df-convert');\n",
              "        buttonEl.style.display =\n",
              "          google.colab.kernel.accessAllowed ? 'block' : 'none';\n",
              "\n",
              "        async function convertToInteractive(key) {\n",
              "          const element = document.querySelector('#df-a75f8c86-22b7-4be3-bfb2-b74720489e64');\n",
              "          const dataTable =\n",
              "            await google.colab.kernel.invokeFunction('convertToInteractive',\n",
              "                                                     [key], {});\n",
              "          if (!dataTable) return;\n",
              "\n",
              "          const docLinkHtml = 'Like what you see? Visit the ' +\n",
              "            '<a target=\"_blank\" href=https://colab.research.google.com/notebooks/data_table.ipynb>data table notebook</a>'\n",
              "            + ' to learn more about interactive tables.';\n",
              "          element.innerHTML = '';\n",
              "          dataTable['output_type'] = 'display_data';\n",
              "          await google.colab.output.renderOutput(dataTable, element);\n",
              "          const docLink = document.createElement('div');\n",
              "          docLink.innerHTML = docLinkHtml;\n",
              "          element.appendChild(docLink);\n",
              "        }\n",
              "      </script>\n",
              "    </div>\n",
              "  </div>\n",
              "  "
            ]
          },
          "metadata": {},
          "execution_count": 2
        }
      ]
    },
    {
      "cell_type": "code",
      "source": [
        "weights = np.array([0.3, 0.4, 0.3])"
      ],
      "metadata": {
        "id": "BcuFBq7nrO7O"
      },
      "execution_count": 3,
      "outputs": []
    },
    {
      "cell_type": "code",
      "source": [
        "#Create cov matrix\n",
        "cov_matrix_annual = returns.cov() * 252\n",
        "cov_matrix_annual"
      ],
      "metadata": {
        "colab": {
          "base_uri": "https://localhost:8080/",
          "height": 143
        },
        "id": "Jg_yPs7XqVV7",
        "outputId": "d792ca2e-8513-4596-95a2-1a66007d5c72"
      },
      "execution_count": 4,
      "outputs": [
        {
          "output_type": "execute_result",
          "data": {
            "text/plain": [
              "               BAJAJ-AUTO  BAJAJ-FINSV  BAJAJ-FINANCE\n",
              "BAJAJ-AUTO       0.114808     0.011991       0.018620\n",
              "BAJAJ-FINSV      0.011991     0.160702       0.076005\n",
              "BAJAJ-FINANCE    0.018620     0.076005       0.248456"
            ],
            "text/html": [
              "\n",
              "  <div id=\"df-1641b060-8c40-4f8a-9800-f220f1b6387c\">\n",
              "    <div class=\"colab-df-container\">\n",
              "      <div>\n",
              "<style scoped>\n",
              "    .dataframe tbody tr th:only-of-type {\n",
              "        vertical-align: middle;\n",
              "    }\n",
              "\n",
              "    .dataframe tbody tr th {\n",
              "        vertical-align: top;\n",
              "    }\n",
              "\n",
              "    .dataframe thead th {\n",
              "        text-align: right;\n",
              "    }\n",
              "</style>\n",
              "<table border=\"1\" class=\"dataframe\">\n",
              "  <thead>\n",
              "    <tr style=\"text-align: right;\">\n",
              "      <th></th>\n",
              "      <th>BAJAJ-AUTO</th>\n",
              "      <th>BAJAJ-FINSV</th>\n",
              "      <th>BAJAJ-FINANCE</th>\n",
              "    </tr>\n",
              "  </thead>\n",
              "  <tbody>\n",
              "    <tr>\n",
              "      <th>BAJAJ-AUTO</th>\n",
              "      <td>0.114808</td>\n",
              "      <td>0.011991</td>\n",
              "      <td>0.018620</td>\n",
              "    </tr>\n",
              "    <tr>\n",
              "      <th>BAJAJ-FINSV</th>\n",
              "      <td>0.011991</td>\n",
              "      <td>0.160702</td>\n",
              "      <td>0.076005</td>\n",
              "    </tr>\n",
              "    <tr>\n",
              "      <th>BAJAJ-FINANCE</th>\n",
              "      <td>0.018620</td>\n",
              "      <td>0.076005</td>\n",
              "      <td>0.248456</td>\n",
              "    </tr>\n",
              "  </tbody>\n",
              "</table>\n",
              "</div>\n",
              "      <button class=\"colab-df-convert\" onclick=\"convertToInteractive('df-1641b060-8c40-4f8a-9800-f220f1b6387c')\"\n",
              "              title=\"Convert this dataframe to an interactive table.\"\n",
              "              style=\"display:none;\">\n",
              "        \n",
              "  <svg xmlns=\"http://www.w3.org/2000/svg\" height=\"24px\"viewBox=\"0 0 24 24\"\n",
              "       width=\"24px\">\n",
              "    <path d=\"M0 0h24v24H0V0z\" fill=\"none\"/>\n",
              "    <path d=\"M18.56 5.44l.94 2.06.94-2.06 2.06-.94-2.06-.94-.94-2.06-.94 2.06-2.06.94zm-11 1L8.5 8.5l.94-2.06 2.06-.94-2.06-.94L8.5 2.5l-.94 2.06-2.06.94zm10 10l.94 2.06.94-2.06 2.06-.94-2.06-.94-.94-2.06-.94 2.06-2.06.94z\"/><path d=\"M17.41 7.96l-1.37-1.37c-.4-.4-.92-.59-1.43-.59-.52 0-1.04.2-1.43.59L10.3 9.45l-7.72 7.72c-.78.78-.78 2.05 0 2.83L4 21.41c.39.39.9.59 1.41.59.51 0 1.02-.2 1.41-.59l7.78-7.78 2.81-2.81c.8-.78.8-2.07 0-2.86zM5.41 20L4 18.59l7.72-7.72 1.47 1.35L5.41 20z\"/>\n",
              "  </svg>\n",
              "      </button>\n",
              "      \n",
              "  <style>\n",
              "    .colab-df-container {\n",
              "      display:flex;\n",
              "      flex-wrap:wrap;\n",
              "      gap: 12px;\n",
              "    }\n",
              "\n",
              "    .colab-df-convert {\n",
              "      background-color: #E8F0FE;\n",
              "      border: none;\n",
              "      border-radius: 50%;\n",
              "      cursor: pointer;\n",
              "      display: none;\n",
              "      fill: #1967D2;\n",
              "      height: 32px;\n",
              "      padding: 0 0 0 0;\n",
              "      width: 32px;\n",
              "    }\n",
              "\n",
              "    .colab-df-convert:hover {\n",
              "      background-color: #E2EBFA;\n",
              "      box-shadow: 0px 1px 2px rgba(60, 64, 67, 0.3), 0px 1px 3px 1px rgba(60, 64, 67, 0.15);\n",
              "      fill: #174EA6;\n",
              "    }\n",
              "\n",
              "    [theme=dark] .colab-df-convert {\n",
              "      background-color: #3B4455;\n",
              "      fill: #D2E3FC;\n",
              "    }\n",
              "\n",
              "    [theme=dark] .colab-df-convert:hover {\n",
              "      background-color: #434B5C;\n",
              "      box-shadow: 0px 1px 3px 1px rgba(0, 0, 0, 0.15);\n",
              "      filter: drop-shadow(0px 1px 2px rgba(0, 0, 0, 0.3));\n",
              "      fill: #FFFFFF;\n",
              "    }\n",
              "  </style>\n",
              "\n",
              "      <script>\n",
              "        const buttonEl =\n",
              "          document.querySelector('#df-1641b060-8c40-4f8a-9800-f220f1b6387c button.colab-df-convert');\n",
              "        buttonEl.style.display =\n",
              "          google.colab.kernel.accessAllowed ? 'block' : 'none';\n",
              "\n",
              "        async function convertToInteractive(key) {\n",
              "          const element = document.querySelector('#df-1641b060-8c40-4f8a-9800-f220f1b6387c');\n",
              "          const dataTable =\n",
              "            await google.colab.kernel.invokeFunction('convertToInteractive',\n",
              "                                                     [key], {});\n",
              "          if (!dataTable) return;\n",
              "\n",
              "          const docLinkHtml = 'Like what you see? Visit the ' +\n",
              "            '<a target=\"_blank\" href=https://colab.research.google.com/notebooks/data_table.ipynb>data table notebook</a>'\n",
              "            + ' to learn more about interactive tables.';\n",
              "          element.innerHTML = '';\n",
              "          dataTable['output_type'] = 'display_data';\n",
              "          await google.colab.output.renderOutput(dataTable, element);\n",
              "          const docLink = document.createElement('div');\n",
              "          docLink.innerHTML = docLinkHtml;\n",
              "          element.appendChild(docLink);\n",
              "        }\n",
              "      </script>\n",
              "    </div>\n",
              "  </div>\n",
              "  "
            ]
          },
          "metadata": {},
          "execution_count": 4
        }
      ]
    },
    {
      "cell_type": "code",
      "source": [
        "#Create portfolio variance\n",
        "port_variance = np.dot (weights.T, np.dot(cov_matrix_annual, weights))\n",
        "port_variance"
      ],
      "metadata": {
        "colab": {
          "base_uri": "https://localhost:8080/"
        },
        "id": "hGCKVTPzhJ59",
        "outputId": "b329abe7-2bc0-49ed-9a59-ba536ffe7223"
      },
      "execution_count": 5,
      "outputs": [
        {
          "output_type": "execute_result",
          "data": {
            "text/plain": [
              "0.08287689040315016"
            ]
          },
          "metadata": {},
          "execution_count": 5
        }
      ]
    },
    {
      "cell_type": "code",
      "source": [
        "#Calculate port volatility\n",
        "port_volatility = np.sqrt(port_variance)\n",
        "port_volatility"
      ],
      "metadata": {
        "colab": {
          "base_uri": "https://localhost:8080/"
        },
        "id": "pkcFhJzAr89I",
        "outputId": "52f7520c-6514-4217-cf7b-e10ed10d4309"
      },
      "execution_count": 6,
      "outputs": [
        {
          "output_type": "execute_result",
          "data": {
            "text/plain": [
              "0.2878834667068433"
            ]
          },
          "metadata": {},
          "execution_count": 6
        }
      ]
    },
    {
      "cell_type": "code",
      "source": [
        "#Calculate annual portfolio return\n",
        "portfolioSimpleAnnualReturn = np.sum( returns.mean() * weights ) * 252\n",
        "portfolioSimpleAnnualReturn"
      ],
      "metadata": {
        "colab": {
          "base_uri": "https://localhost:8080/"
        },
        "id": "oZ7nMf1asOsD",
        "outputId": "db581bee-8844-42b1-e2a4-531af29beb7b"
      },
      "execution_count": 7,
      "outputs": [
        {
          "output_type": "execute_result",
          "data": {
            "text/plain": [
              "0.32291609386633363"
            ]
          },
          "metadata": {},
          "execution_count": 7
        }
      ]
    },
    {
      "cell_type": "code",
      "source": [
        "#Show what we got\n",
        "percent_var =  str (round (port_variance, 2) * 100) + '%'\n",
        "percent_vols =  str (round (port_volatility, 2) * 100) + '%'\n",
        "percent_ret =  str (round (portfolioSimpleAnnualReturn, 2) * 100) + '%'\n",
        "\n",
        "print ('Expected annual return: ' + percent_ret)\n",
        "print ('Annual risk: ' + percent_vols)\n",
        "print ('Annual variance: ' + percent_var)"
      ],
      "metadata": {
        "colab": {
          "base_uri": "https://localhost:8080/"
        },
        "id": "9XgXfq6UtCBr",
        "outputId": "28b996db-f1e1-4335-89f9-e865ca43c10c"
      },
      "execution_count": 8,
      "outputs": [
        {
          "output_type": "stream",
          "name": "stdout",
          "text": [
            "Expected annual return: 32.0%\n",
            "Annual risk: 28.999999999999996%\n",
            "Annual variance: 8.0%\n"
          ]
        }
      ]
    },
    {
      "cell_type": "code",
      "source": [
        "%pip install PyPortfolioOpt"
      ],
      "metadata": {
        "colab": {
          "base_uri": "https://localhost:8080/"
        },
        "id": "F7WIwRI54k4m",
        "outputId": "765cd19e-28d2-43f9-aade-a01f55e32ac6"
      },
      "execution_count": 10,
      "outputs": [
        {
          "output_type": "stream",
          "name": "stdout",
          "text": [
            "Looking in indexes: https://pypi.org/simple, https://us-python.pkg.dev/colab-wheels/public/simple/\n",
            "Collecting PyPortfolioOpt\n",
            "  Downloading pyportfolioopt-1.5.2-py3-none-any.whl (61 kB)\n",
            "\u001b[K     |████████████████████████████████| 61 kB 7.2 MB/s \n",
            "\u001b[?25hRequirement already satisfied: cvxpy<2.0.0,>=1.1.10 in /usr/local/lib/python3.7/dist-packages (from PyPortfolioOpt) (1.2.1)\n",
            "Requirement already satisfied: scipy<2.0,>=1.3 in /usr/local/lib/python3.7/dist-packages (from PyPortfolioOpt) (1.7.3)\n",
            "Requirement already satisfied: pandas>=0.19 in /usr/local/lib/python3.7/dist-packages (from PyPortfolioOpt) (1.3.5)\n",
            "Requirement already satisfied: numpy<2.0,>=1.12 in /usr/local/lib/python3.7/dist-packages (from PyPortfolioOpt) (1.21.6)\n",
            "Requirement already satisfied: osqp>=0.4.1 in /usr/local/lib/python3.7/dist-packages (from cvxpy<2.0.0,>=1.1.10->PyPortfolioOpt) (0.6.2.post0)\n",
            "Requirement already satisfied: ecos>=2 in /usr/local/lib/python3.7/dist-packages (from cvxpy<2.0.0,>=1.1.10->PyPortfolioOpt) (2.0.10)\n",
            "Requirement already satisfied: scs>=1.1.6 in /usr/local/lib/python3.7/dist-packages (from cvxpy<2.0.0,>=1.1.10->PyPortfolioOpt) (3.2.0)\n",
            "Requirement already satisfied: qdldl in /usr/local/lib/python3.7/dist-packages (from osqp>=0.4.1->cvxpy<2.0.0,>=1.1.10->PyPortfolioOpt) (0.1.5.post2)\n",
            "Requirement already satisfied: python-dateutil>=2.7.3 in /usr/local/lib/python3.7/dist-packages (from pandas>=0.19->PyPortfolioOpt) (2.8.2)\n",
            "Requirement already satisfied: pytz>=2017.3 in /usr/local/lib/python3.7/dist-packages (from pandas>=0.19->PyPortfolioOpt) (2022.2.1)\n",
            "Requirement already satisfied: six>=1.5 in /usr/local/lib/python3.7/dist-packages (from python-dateutil>=2.7.3->pandas>=0.19->PyPortfolioOpt) (1.15.0)\n",
            "Installing collected packages: PyPortfolioOpt\n",
            "Successfully installed PyPortfolioOpt-1.5.2\n"
          ]
        }
      ]
    },
    {
      "cell_type": "code",
      "source": [
        "from pypfopt.efficient_frontier import EfficientFrontier\n",
        "from pypfopt import risk_models\n",
        "from pypfopt import expected_returns"
      ],
      "metadata": {
        "id": "UVtdGiyG4rdi"
      },
      "execution_count": 11,
      "outputs": []
    },
    {
      "cell_type": "code",
      "source": [
        "#Portfolio Optimization\n",
        "mu = expected_returns.mean_historical_return(df)\n",
        "S = risk_models.sample_cov(df)\n",
        "\n",
        "ef = EfficientFrontier(mu, S)\n",
        "#ef.add_constraint(lambda x : x >= 0.3)\n",
        "\n",
        "weights = ef.max_sharpe()\n",
        "print ('Raw weights are: ', weights)\n",
        "cleaned_weights = ef.clean_weights()\n",
        "\n",
        "ef.portfolio_performance(verbose = True)"
      ],
      "metadata": {
        "colab": {
          "base_uri": "https://localhost:8080/"
        },
        "id": "0tmTifYs5JCf",
        "outputId": "74fb6de7-b219-4898-c394-474c0416e12a"
      },
      "execution_count": 16,
      "outputs": [
        {
          "output_type": "stream",
          "name": "stdout",
          "text": [
            "Raw weights are:  OrderedDict([('BAJAJ-AUTO', 0.3515420617272426), ('BAJAJ-FINSV', 0.4545236761063654), ('BAJAJ-FINANCE', 0.1939342621663921)])\n",
            "Expected annual return: 23.1%\n",
            "Annual volatility: 27.7%\n",
            "Sharpe Ratio: 0.76\n"
          ]
        },
        {
          "output_type": "execute_result",
          "data": {
            "text/plain": [
              "(0.2312810315046694, 0.27659145880033514, 0.7638740271339622)"
            ]
          },
          "metadata": {},
          "execution_count": 16
        }
      ]
    },
    {
      "cell_type": "code",
      "source": [
        "#Checking for minimum 30 %\n",
        "weightlist = []\n",
        "# for  weight in weights.values :\n",
        "#   weightlist.append(weight)\n",
        "a = weights['BAJAJ-AUTO']\n",
        "b = weights['BAJAJ-FINSV']\n",
        "c = weights['BAJAJ-FINANCE']\n",
        "print(a,b,c)\n"
      ],
      "metadata": {
        "colab": {
          "base_uri": "https://localhost:8080/"
        },
        "id": "1txlq2eBLn2g",
        "outputId": "31cdce03-488a-4d6d-bd59-b20c3721141a"
      },
      "execution_count": 42,
      "outputs": [
        {
          "output_type": "stream",
          "name": "stdout",
          "text": [
            "0.3515420617272426 0.4545236761063654 0.1939342621663921\n"
          ]
        }
      ]
    },
    {
      "cell_type": "code",
      "source": [
        "#If 2 of the stocks are less than 30 then ratio of 3:3:4\n",
        "weightlist = [a,b,c]\n",
        "weightlist.sort()\n",
        "if weightlist[1] < 0.3 : \n",
        "  weightlist = [0.3, 0.3, 0.4]\n"
      ],
      "metadata": {
        "id": "MJ3vK8Lw5N_2"
      },
      "execution_count": 43,
      "outputs": []
    },
    {
      "cell_type": "code",
      "source": [
        "#If the first stock is less than 1\n",
        "print(weightlist)\n",
        "if weightlist[0]<0.3:\n",
        "  wsum = weightlist[1]+weightlist[2]\n",
        "  weightlist[0]= 0.3\n",
        "  weightlist[1]= 0.7/wsum * weightlist[1]\n",
        "  weightlist[2]= 0.7/wsum * weightlist[2]\n",
        "  if weightlist [1] < 0.3 :\n",
        "    weightlist = [0.3, 0.3, 0.4] \n",
        "print(wsum)\n",
        "weightlist"
      ],
      "metadata": {
        "colab": {
          "base_uri": "https://localhost:8080/"
        },
        "id": "sFFHfank7obD",
        "outputId": "86afc1cd-0864-42bf-b07c-0bbd6cd74bdc"
      },
      "execution_count": 44,
      "outputs": [
        {
          "output_type": "stream",
          "name": "stdout",
          "text": [
            "[0.1939342621663921, 0.3515420617272426, 0.4545236761063654]\n",
            "0.806065737833608\n"
          ]
        },
        {
          "output_type": "execute_result",
          "data": {
            "text/plain": [
              "[0.3, 0.30528458369963213, 0.3947154163003679]"
            ]
          },
          "metadata": {},
          "execution_count": 44
        }
      ]
    },
    {
      "cell_type": "markdown",
      "source": [
        "# New Section"
      ],
      "metadata": {
        "id": "lKiWWnt837cQ"
      }
    }
  ]
}